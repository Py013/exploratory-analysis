{
 "cells": [
  {
   "cell_type": "code",
   "execution_count": 2,
   "metadata": {},
   "outputs": [],
   "source": [
    "import pandas as pd\n",
    "import gspread\n",
    "from oauth2client.service_account import ServiceAccountCredentials\n",
    "from config import *"
   ]
  },
  {
   "cell_type": "code",
   "execution_count": 4,
   "metadata": {},
   "outputs": [],
   "source": [
    "credentials_dict = {\n",
    "    \"type\": TYPE, \n",
    "    \"private_key_id\": PRIVATE_KEY_ID, \n",
    "    \"private_key\": PRIVATE_KEY,\n",
    "    \"client_email\": CLIENT_EMAIL,\n",
    "    \"client_id\": CLIENT_ID \n",
    "}"
   ]
  },
  {
   "cell_type": "code",
   "execution_count": 3,
   "metadata": {},
   "outputs": [],
   "source": [
    "# https://oauth2client.readthedocs.io/en/latest/source/oauth2client.service_account.html\n",
    "def get_data_google_sheets(sample_spreadsheet_id, tab_index, credentials):\n",
    "    \n",
    "    scopes = [\n",
    "        'https://www.googleapis.com/auth/spreadsheets',\n",
    "        'https://www.googleapis.com/auth/drive'\n",
    "        ]\n",
    "    \n",
    "    permission = ServiceAccountCredentials.from_json_keyfile_dict(credentials, scopes)\n",
    "\n",
    "    gc = gspread.authorize(permission).open_by_key(sample_spreadsheet_id)\n",
    "\n",
    "    values = gc.get_worksheet(tab_index).get_all_values()\n",
    "    \n",
    "    df = pd.DataFrame(values)\n",
    "    df.columns = df.iloc[0]\n",
    "    df.drop(df.index[0], inplace=True)         \n",
    "\n",
    "    return df"
   ]
  },
  {
   "cell_type": "code",
   "execution_count": 5,
   "metadata": {},
   "outputs": [
    {
     "output_type": "execute_result",
     "data": {
      "text/plain": "0 id   nome nota\n1  1  Lucas   10\n2  2   João    9\n3  3  Maria  9,5\n4  4  Pedro    8\n5  5    Ana  8,5",
      "text/html": "<div>\n<style scoped>\n    .dataframe tbody tr th:only-of-type {\n        vertical-align: middle;\n    }\n\n    .dataframe tbody tr th {\n        vertical-align: top;\n    }\n\n    .dataframe thead th {\n        text-align: right;\n    }\n</style>\n<table border=\"1\" class=\"dataframe\">\n  <thead>\n    <tr style=\"text-align: right;\">\n      <th></th>\n      <th>id</th>\n      <th>nome</th>\n      <th>nota</th>\n    </tr>\n  </thead>\n  <tbody>\n    <tr>\n      <th>1</th>\n      <td>1</td>\n      <td>Lucas</td>\n      <td>10</td>\n    </tr>\n    <tr>\n      <th>2</th>\n      <td>2</td>\n      <td>João</td>\n      <td>9</td>\n    </tr>\n    <tr>\n      <th>3</th>\n      <td>3</td>\n      <td>Maria</td>\n      <td>9,5</td>\n    </tr>\n    <tr>\n      <th>4</th>\n      <td>4</td>\n      <td>Pedro</td>\n      <td>8</td>\n    </tr>\n    <tr>\n      <th>5</th>\n      <td>5</td>\n      <td>Ana</td>\n      <td>8,5</td>\n    </tr>\n  </tbody>\n</table>\n</div>"
     },
     "metadata": {},
     "execution_count": 5
    }
   ],
   "source": [
    "df_ = get_data_google_sheets(SAMPLE_SPREADSHEET_ID, 0, credentials_dict)\n",
    "df_.head()"
   ]
  }
 ],
 "metadata": {
  "language_info": {
   "codemirror_mode": {
    "name": "ipython",
    "version": 3
   },
   "file_extension": ".py",
   "mimetype": "text/x-python",
   "name": "python",
   "nbconvert_exporter": "python",
   "pygments_lexer": "ipython3",
   "version": "3.8.2-final"
  },
  "orig_nbformat": 2,
  "kernelspec": {
   "name": "python3",
   "display_name": "Python 3"
  }
 },
 "nbformat": 4,
 "nbformat_minor": 2
}